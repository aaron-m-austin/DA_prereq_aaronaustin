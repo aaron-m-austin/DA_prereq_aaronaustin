{
 "cells": [
  {
   "cell_type": "code",
   "execution_count": 1,
   "id": "2fbb2627",
   "metadata": {},
   "outputs": [
    {
     "name": "stdout",
     "output_type": "stream",
     "text": [
      "11\n"
     ]
    }
   ],
   "source": [
    "a = 5\n",
    "b = 6\n",
    "addnum = a+b\n",
    "print(addnum)"
   ]
  },
  {
   "cell_type": "markdown",
   "id": "8de9f436",
   "metadata": {},
   "source": [
    "Hey there! I'm Aaron, I'm from Louisville but now live in NYC! I recently just moved here for my wifes job, and so far we love it. I've been in engineering adjacent sectors for a long time, and have been through front and back end courses with Code:you. Excited to be back, and looking forward to learning. \n",
    "\n",
    "Also, I have the worlds cutest dog. "
   ]
  }
 ],
 "metadata": {
  "kernelspec": {
   "display_name": "Python 3",
   "language": "python",
   "name": "python3"
  },
  "language_info": {
   "codemirror_mode": {
    "name": "ipython",
    "version": 3
   },
   "file_extension": ".py",
   "mimetype": "text/x-python",
   "name": "python",
   "nbconvert_exporter": "python",
   "pygments_lexer": "ipython3",
   "version": "3.13.7"
  }
 },
 "nbformat": 4,
 "nbformat_minor": 5
}
